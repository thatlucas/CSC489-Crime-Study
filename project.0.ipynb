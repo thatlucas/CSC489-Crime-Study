{
 "cells": [
  {
   "cell_type": "code",
   "execution_count": 1,
   "metadata": {
    "collapsed": false
   },
   "outputs": [],
   "source": [
    "import matplotlib.pyplot as plt\n",
    "import datetime as dt\n",
    "import numpy as np\n",
    "import pandas as pd\n",
    "np.set_printoptions(precision=2, linewidth=120, suppress=True, edgeitems=4)"
   ]
  },
  {
   "cell_type": "code",
   "execution_count": 2,
   "metadata": {
    "collapsed": false
   },
   "outputs": [
    {
     "name": "stdout",
     "output_type": "stream",
     "text": [
      "0   ID\n",
      "1   Case Number\n",
      "2   Date\n",
      "3   Block\n",
      "4   IUCR\n",
      "5   Primary Type\n",
      "6   Description\n",
      "7   Location Description\n",
      "8   Arrest\n",
      "9   Domestic\n",
      "10   Beat\n",
      "11   District\n",
      "12   Ward\n",
      "13   Community Area\n",
      "14   FBI Code\n",
      "15   X Coordinate\n",
      "16   Y Coordinate\n",
      "17   Year\n",
      "18   Updated On\n",
      "19   Latitude\n",
      "20   Longitude\n",
      "21   Location\n",
      "\n"
     ]
    }
   ],
   "source": [
    "with open('Crimes_-_2001_to_present.csv') as infl:\n",
    "    head = infl.readline().split(',')\n",
    "    i=0\n",
    "    for h in head:\n",
    "        print i,' ',h\n",
    "        i+=1"
   ]
  },
  {
   "cell_type": "code",
   "execution_count": 3,
   "metadata": {
    "collapsed": false
   },
   "outputs": [],
   "source": [
    "full_set = pd.read_csv('Crimes_-_2001_to_present.csv',sep=\",\",usecols=[2,5,8,9,13],quotechar='\"',dtype='object')\n",
    "full_set['Date'] =  [dt.datetime.strptime(d,'%m/%d/%Y %I:%M:%S %p') for d in full_set['Date']]\n",
    "full_set['year'] = [d.year for d in full_set['Date']]"
   ]
  },
  {
   "cell_type": "code",
   "execution_count": 4,
   "metadata": {
    "collapsed": false
   },
   "outputs": [
    {
     "name": "stdout",
     "output_type": "stream",
     "text": [
      "(6208265, 6)\n",
      "                 Date         Primary Type Arrest Domestic Community Area  \\\n",
      "0 2016-07-13 00:30:00  MOTOR VEHICLE THEFT  false    false             24   \n",
      "1 2016-07-13 04:52:00      CRIMINAL DAMAGE  false     true             69   \n",
      "2 2016-07-13 08:00:00      CRIMINAL DAMAGE  false    false             25   \n",
      "3 2016-07-13 12:00:00                THEFT  false    false             66   \n",
      "4 2016-07-13 13:27:00        OTHER OFFENSE  false     true             42   \n",
      "5 2016-07-13 21:00:00      CRIMINAL DAMAGE  false    false             43   \n",
      "6 2016-07-13 19:30:00                THEFT  false    false             15   \n",
      "7 2016-07-13 10:00:00              BATTERY  false     true             22   \n",
      "8 2016-07-13 13:00:00              ROBBERY  false    false             22   \n",
      "9 2016-07-13 22:00:00      CRIMINAL DAMAGE  false    false             43   \n",
      "\n",
      "   year  \n",
      "0  2016  \n",
      "1  2016  \n",
      "2  2016  \n",
      "3  2016  \n",
      "4  2016  \n",
      "5  2016  \n",
      "6  2016  \n",
      "7  2016  \n",
      "8  2016  \n",
      "9  2016  \n"
     ]
    }
   ],
   "source": [
    "print full_set.shape\n",
    "print full_set[:10]"
   ]
  },
  {
   "cell_type": "code",
   "execution_count": 5,
   "metadata": {
    "collapsed": false
   },
   "outputs": [],
   "source": [
    "type_agg = full_set.groupby(by=['Primary Type'])['Date'].count()"
   ]
  },
  {
   "cell_type": "code",
   "execution_count": 6,
   "metadata": {
    "collapsed": false
   },
   "outputs": [],
   "source": [
    "type_agg\n",
    "plt.bar(range(0,35),type_agg)\n",
    "plt.xticks(range(0,35),type_agg.index,rotation='vertical')\n",
    "plt.show()"
   ]
  },
  {
   "cell_type": "code",
   "execution_count": 7,
   "metadata": {
    "collapsed": true
   },
   "outputs": [],
   "source": [
    "full_set['commNum'] = [int(c) for c in full_set['Community Area'].fillna(-1)]\n",
    "plt.hist(full_set['commNum'],bins=range(-1,78))\n",
    "plt.show()"
   ]
  },
  {
   "cell_type": "code",
   "execution_count": 8,
   "metadata": {
    "collapsed": true
   },
   "outputs": [],
   "source": [
    "keep_types=['ASSAULT','BATTERY','BURGLARY','CRIMINAL DAMAGE','CRIMINAL TRESPASS',\\\n",
    "                'DECEPTIVE PRACTICE','MOTOR VEHICLE THEFT','NARCOTICS','OTHER OFFENSE','ROBBERY','THEFT']"
   ]
  },
  {
   "cell_type": "code",
   "execution_count": 9,
   "metadata": {
    "collapsed": false
   },
   "outputs": [
    {
     "name": "stdout",
     "output_type": "stream",
     "text": [
      "725383\n"
     ]
    }
   ],
   "source": [
    "with open('Crime-2014-present.csv','w') as outf:\n",
    "    outf.write(\"Date,Type,Arrest,Domestic,Community\\n\")\n",
    "    j=0\n",
    "    for i in range(full_set.shape[0]):\n",
    "        if full_set['year'][i]>2013 and full_set['Primary Type'][i] in keep_types:\n",
    "            if full_set['Primary Type'][i] in ['ASSAULT','BATTERY','ROBBERY']:\n",
    "                ctype = 'Violent'\n",
    "            elif full_set['Primary Type'][i] in ['CRIMINAL TRESPASS','DECEPTIVE PRACTICE','NARCOTICS','OTHER OFFENSE']:\n",
    "                ctype = 'Other'\n",
    "            else:\n",
    "                ctype = 'Property'\n",
    "            j+=1\n",
    "            outs = str(full_set['Date'][i])+','+ctype+\\\n",
    "                ','+str(full_set['Arrest'][i])+','+str(full_set['Domestic'][i])+\\\n",
    "                ','+str(full_set['Community Area'][i])+'\\n'\n",
    "            outf.write(outs)\n",
    "        else:\n",
    "            continue\n",
    "print j"
   ]
  },
  {
   "cell_type": "markdown",
   "metadata": {},
   "source": []
  },
  {
   "cell_type": "code",
   "execution_count": 10,
   "metadata": {
    "collapsed": false
   },
   "outputs": [],
   "source": [
    "full_set = None"
   ]
  },
  {
   "cell_type": "code",
   "execution_count": 11,
   "metadata": {
    "collapsed": false,
    "scrolled": true
   },
   "outputs": [],
   "source": [
    "small_set = pd.read_csv('Crime-2014-present.csv',sep=\",\",quotechar='\"',dtype='object')\n",
    "small_set['Date'] =  [dt.datetime.strptime(d,'%Y-%m-%d %H:%M:%S') for d in small_set['Date']]\n",
    "fd=dt.datetime.strptime('2013-12-31 00:00:01','%Y-%m-%d %H:%M:%S')\n",
    "small_set['Day']=[(d-fd).days for d in small_set['Date']]"
   ]
  },
  {
   "cell_type": "code",
   "execution_count": 12,
   "metadata": {
    "collapsed": false
   },
   "outputs": [],
   "source": [
    "type_agg = small_set.groupby(by=['Type'])['Date'].count()\n",
    "plt.bar(range(0,3),type_agg)\n",
    "plt.xticks(range(0,3),type_agg.index)\n",
    "plt.show()"
   ]
  },
  {
   "cell_type": "code",
   "execution_count": 13,
   "metadata": {
    "collapsed": false
   },
   "outputs": [],
   "source": [
    "small_set['commNum'] = [int(c) for c in small_set['Community'].fillna(-1)]\n",
    "plt.hist(small_set['commNum'],bins=range(-1,78))\n",
    "plt.show()"
   ]
  },
  {
   "cell_type": "code",
   "execution_count": 14,
   "metadata": {
    "collapsed": false
   },
   "outputs": [
    {
     "data": {
      "text/html": [
       "<div>\n",
       "<table border=\"1\" class=\"dataframe\">\n",
       "  <thead>\n",
       "    <tr style=\"text-align: right;\">\n",
       "      <th></th>\n",
       "      <th>Date</th>\n",
       "      <th>Type</th>\n",
       "      <th>Arrest</th>\n",
       "      <th>Domestic</th>\n",
       "      <th>Community</th>\n",
       "      <th>Day</th>\n",
       "      <th>commNum</th>\n",
       "    </tr>\n",
       "  </thead>\n",
       "  <tbody>\n",
       "    <tr>\n",
       "      <th>0</th>\n",
       "      <td>2016-07-13 00:30:00</td>\n",
       "      <td>Property</td>\n",
       "      <td>false</td>\n",
       "      <td>false</td>\n",
       "      <td>24</td>\n",
       "      <td>925</td>\n",
       "      <td>24</td>\n",
       "    </tr>\n",
       "    <tr>\n",
       "      <th>1</th>\n",
       "      <td>2016-07-13 04:52:00</td>\n",
       "      <td>Property</td>\n",
       "      <td>false</td>\n",
       "      <td>true</td>\n",
       "      <td>69</td>\n",
       "      <td>925</td>\n",
       "      <td>69</td>\n",
       "    </tr>\n",
       "    <tr>\n",
       "      <th>2</th>\n",
       "      <td>2016-07-13 08:00:00</td>\n",
       "      <td>Property</td>\n",
       "      <td>false</td>\n",
       "      <td>false</td>\n",
       "      <td>25</td>\n",
       "      <td>925</td>\n",
       "      <td>25</td>\n",
       "    </tr>\n",
       "    <tr>\n",
       "      <th>3</th>\n",
       "      <td>2016-07-13 12:00:00</td>\n",
       "      <td>Property</td>\n",
       "      <td>false</td>\n",
       "      <td>false</td>\n",
       "      <td>66</td>\n",
       "      <td>925</td>\n",
       "      <td>66</td>\n",
       "    </tr>\n",
       "    <tr>\n",
       "      <th>4</th>\n",
       "      <td>2016-07-13 13:27:00</td>\n",
       "      <td>Other</td>\n",
       "      <td>false</td>\n",
       "      <td>true</td>\n",
       "      <td>42</td>\n",
       "      <td>925</td>\n",
       "      <td>42</td>\n",
       "    </tr>\n",
       "    <tr>\n",
       "      <th>5</th>\n",
       "      <td>2016-07-13 21:00:00</td>\n",
       "      <td>Property</td>\n",
       "      <td>false</td>\n",
       "      <td>false</td>\n",
       "      <td>43</td>\n",
       "      <td>925</td>\n",
       "      <td>43</td>\n",
       "    </tr>\n",
       "    <tr>\n",
       "      <th>6</th>\n",
       "      <td>2016-07-13 19:30:00</td>\n",
       "      <td>Property</td>\n",
       "      <td>false</td>\n",
       "      <td>false</td>\n",
       "      <td>15</td>\n",
       "      <td>925</td>\n",
       "      <td>15</td>\n",
       "    </tr>\n",
       "    <tr>\n",
       "      <th>7</th>\n",
       "      <td>2016-07-13 10:00:00</td>\n",
       "      <td>Violent</td>\n",
       "      <td>false</td>\n",
       "      <td>true</td>\n",
       "      <td>22</td>\n",
       "      <td>925</td>\n",
       "      <td>22</td>\n",
       "    </tr>\n",
       "    <tr>\n",
       "      <th>8</th>\n",
       "      <td>2016-07-13 13:00:00</td>\n",
       "      <td>Violent</td>\n",
       "      <td>false</td>\n",
       "      <td>false</td>\n",
       "      <td>22</td>\n",
       "      <td>925</td>\n",
       "      <td>22</td>\n",
       "    </tr>\n",
       "    <tr>\n",
       "      <th>9</th>\n",
       "      <td>2016-07-13 22:00:00</td>\n",
       "      <td>Property</td>\n",
       "      <td>false</td>\n",
       "      <td>false</td>\n",
       "      <td>43</td>\n",
       "      <td>925</td>\n",
       "      <td>43</td>\n",
       "    </tr>\n",
       "  </tbody>\n",
       "</table>\n",
       "</div>"
      ],
      "text/plain": [
       "                 Date      Type Arrest Domestic Community  Day  commNum\n",
       "0 2016-07-13 00:30:00  Property  false    false        24  925       24\n",
       "1 2016-07-13 04:52:00  Property  false     true        69  925       69\n",
       "2 2016-07-13 08:00:00  Property  false    false        25  925       25\n",
       "3 2016-07-13 12:00:00  Property  false    false        66  925       66\n",
       "4 2016-07-13 13:27:00     Other  false     true        42  925       42\n",
       "5 2016-07-13 21:00:00  Property  false    false        43  925       43\n",
       "6 2016-07-13 19:30:00  Property  false    false        15  925       15\n",
       "7 2016-07-13 10:00:00   Violent  false     true        22  925       22\n",
       "8 2016-07-13 13:00:00   Violent  false    false        22  925       22\n",
       "9 2016-07-13 22:00:00  Property  false    false        43  925       43"
      ]
     },
     "execution_count": 14,
     "metadata": {},
     "output_type": "execute_result"
    }
   ],
   "source": [
    "small_set.shape\n",
    "small_set[:10]"
   ]
  },
  {
   "cell_type": "markdown",
   "metadata": {},
   "source": [
    "Here we aggregate the data over day, community, crime type, arrest and domestic - a sample of the output is shown below - and  saved to a csv. This is the data we will use to cluster over."
   ]
  },
  {
   "cell_type": "code",
   "execution_count": 15,
   "metadata": {
    "collapsed": false
   },
   "outputs": [
    {
     "name": "stdout",
     "output_type": "stream",
     "text": [
      "Day  Community  Type      Arrest  Domestic\n",
      "0    11         Other     false   true        1\n",
      "     14         Property  false   false       1\n",
      "     16         Other     false   false       1\n",
      "     17         Property  false   false       2\n",
      "     22         Other     false   false       1\n",
      "                Property  false   false       1\n",
      "     24         Property  false   false       2\n",
      "     25         Other     false   false       1\n",
      "                Property  false   false       1\n",
      "     26         Other     false   false       1\n",
      "Name: Date, dtype: int64\n",
      "308981\n"
     ]
    }
   ],
   "source": [
    "agg = small_set.groupby(by=['Day','Community','Type','Arrest','Domestic'])['Date'].count()\n",
    "i=0\n",
    "print agg[:10]\n",
    "outs = \"%d,%s,%s,%s,%s,%d\\n\"\n",
    "with open('daily_hood_type.csv','w') as outf:\n",
    "    outf.write(\"Day,Community,Type,Arrest,Domestic,Total\\n\")\n",
    "    while i < len(agg):\n",
    "        outf.write(outs%(agg.index[i][0],agg.index[i][1],agg.index[i][2],agg.index[i][3],agg.index[i][4],agg[agg.index[i]]))\n",
    "        i+=1\n",
    "print i"
   ]
  }
 ],
 "metadata": {
  "anaconda-cloud": {},
  "kernelspec": {
   "display_name": "Python [Root]",
   "language": "python",
   "name": "Python [Root]"
  },
  "language_info": {
   "codemirror_mode": {
    "name": "ipython",
    "version": 2
   },
   "file_extension": ".py",
   "mimetype": "text/x-python",
   "name": "python",
   "nbconvert_exporter": "python",
   "pygments_lexer": "ipython2",
   "version": "2.7.12"
  }
 },
 "nbformat": 4,
 "nbformat_minor": 0
}
