{
 "cells": [
  {
   "cell_type": "code",
   "execution_count": 1,
   "metadata": {
    "collapsed": false
   },
   "outputs": [],
   "source": [
    "import matplotlib.pyplot as plt\n",
    "import datetime as dt\n",
    "import numpy as np\n",
    "import pandas as pd\n",
    "np.set_printoptions(precision=2, linewidth=120, suppress=True, edgeitems=4)"
   ]
  },
  {
   "cell_type": "code",
   "execution_count": 2,
   "metadata": {
    "collapsed": true
   },
   "outputs": [],
   "source": [
    "agg_set = pd.read_csv('daily_hood_type.csv',sep=\",\",quotechar='\"')"
   ]
  },
  {
   "cell_type": "code",
   "execution_count": 3,
   "metadata": {
    "collapsed": false
   },
   "outputs": [],
   "source": [
    "# storing the community id to community name in a dictionary\n",
    "comm_dict = {}\n",
    "i =0 \n",
    "with open('CommAreas.csv','r') as infl:\n",
    "    for line in infl.readlines():\n",
    "        if i==0:\n",
    "            i+=1\n",
    "            continue\n",
    "        comlst = line.split('\"')\n",
    "        comm_dict[comlst[2].split(',')[5]]=comlst[2].split(',')[6]\n",
    "        i+=1\n",
    "type_dict={'Other':0,'Property':1,'Violent':2}\n",
    "        "
   ]
  },
  {
   "cell_type": "code",
   "execution_count": 4,
   "metadata": {
    "collapsed": false
   },
   "outputs": [
    {
     "name": "stdout",
     "output_type": "stream",
     "text": [
      "   Day  Community      Type Arrest Domestic  Total\n",
      "0    0         11     Other  False     True      1\n",
      "1    0         14  Property  False    False      1\n",
      "2    0         16     Other  False    False      1\n",
      "3    0         17  Property  False    False      2\n",
      "4    0         22     Other  False    False      1\n",
      "(308981, 6)\n",
      "(80619L, 12L)\n"
     ]
    }
   ],
   "source": [
    "ndays = 1047\n",
    "ncomm = len(comm_dict)\n",
    "nrows = ndays*ncomm\n",
    "ncols = 2*2*3\n",
    "crime_mat = np.zeros((nrows,ncols))\n",
    "print agg_set.head()\n",
    "print agg_set.shape\n",
    "print crime_mat.shape"
   ]
  },
  {
   "cell_type": "code",
   "execution_count": 5,
   "metadata": {
    "collapsed": false
   },
   "outputs": [
    {
     "name": "stdout",
     "output_type": "stream",
     "text": [
      "(80619L, 12L)\n",
      "[[ 0.  0.  0.  0. ...,  0.  0.  0.  0.]\n",
      " [ 0.  1.  0.  4. ...,  1.  0.  1.  0.]\n",
      " [ 0.  0.  1.  1. ...,  0.  0.  0.  2.]\n",
      " [ 0.  0.  0.  2. ...,  0.  0.  0.  1.]\n",
      " ..., \n",
      " [ 0.  0.  0.  1. ...,  0.  0.  2.  0.]\n",
      " [ 0.  0.  0.  1. ...,  0.  1.  0.  1.]\n",
      " [ 0.  0.  0.  1. ...,  0.  0.  0.  0.]\n",
      " [ 0.  0.  0.  0. ...,  0.  0.  1.  0.]]\n"
     ]
    }
   ],
   "source": [
    "i=0\n",
    "while i < len(agg_set):\n",
    "    row = (agg_set['Community'][i]-1)*(ndays)\n",
    "#    print row\n",
    "    row += agg_set['Day'][i]\n",
    "#    print beat_agg_set.index[i][0]\n",
    "    ctype = type_dict[agg_set['Type'][i]]\n",
    "    arr = agg_set['Arrest'][i]\n",
    "    dom = agg_set['Domestic'][i]\n",
    "    col = ctype*4\n",
    "#    print col\n",
    "    if not arr:\n",
    "        col+=2\n",
    "    if not dom:\n",
    "        col+=1\n",
    "    crime_mat[row,col] = agg_set['Total'][i]\n",
    "    i+=1\n",
    "print crime_mat.shape\n",
    "print crime_mat"
   ]
  },
  {
   "cell_type": "code",
   "execution_count": 6,
   "metadata": {
    "collapsed": false
   },
   "outputs": [
    {
     "name": "stdout",
     "output_type": "stream",
     "text": [
      "3652\n"
     ]
    }
   ],
   "source": [
    "# counting empty rows\n",
    "z=[]\n",
    "for i in range(crime_mat.shape[0]):\n",
    "    if sum(crime_mat[i])==0:\n",
    "        z.append(i)\n",
    "print len(z)\n"
   ]
  },
  {
   "cell_type": "code",
   "execution_count": 7,
   "metadata": {
    "collapsed": false
   },
   "outputs": [
    {
     "name": "stdout",
     "output_type": "stream",
     "text": [
      "[[ 0.  0.  0.  0. ...,  0.  0.  0.  0.]\n",
      " [ 0.  1.  0.  4. ...,  1.  0.  1.  0.]\n",
      " [ 0.  0.  1.  1. ...,  0.  0.  0.  2.]\n",
      " [ 0.  0.  0.  2. ...,  0.  0.  0.  1.]\n",
      " ..., \n",
      " [ 0.  0.  0.  1. ...,  0.  0.  2.  0.]\n",
      " [ 0.  0.  0.  1. ...,  0.  1.  0.  1.]\n",
      " [ 0.  0.  0.  1. ...,  0.  0.  0.  0.]\n",
      " [ 0.  0.  0.  0. ...,  0.  0.  1.  0.]]\n",
      "[[ 0.    0.    0.    0.   ...,  0.    0.    0.    0.  ]\n",
      " [ 0.    0.13  0.    0.53 ...,  0.13  0.    0.13  0.  ]\n",
      " [ 0.    0.    0.25  0.25 ...,  0.    0.    0.    0.5 ]\n",
      " [ 0.    0.    0.    0.53 ...,  0.    0.    0.    0.27]\n",
      " ..., \n",
      " [ 0.    0.    0.    0.45 ...,  0.    0.    0.89  0.  ]\n",
      " [ 0.    0.    0.    0.19 ...,  0.    0.19  0.    0.19]\n",
      " [ 0.    0.    0.    0.41 ...,  0.    0.    0.    0.  ]\n",
      " [ 0.    0.    0.    0.   ...,  0.    0.    0.58  0.  ]]\n",
      "3652\n"
     ]
    }
   ],
   "source": [
    "# normalizing\n",
    "print crime_mat\n",
    "crime_norm = np.zeros(crime_mat.shape)\n",
    "i = 0\n",
    "for m in crime_mat:\n",
    "    n = np.linalg.norm(m)\n",
    "    if n!=0:\n",
    "        crime_norm[i]= m / n\n",
    "    i+=1\n",
    "print crime_norm\n",
    "z=[]\n",
    "for i in range(crime_mat.shape[0]):\n",
    "    if sum(crime_mat[i])==0:\n",
    "        z.append(i)\n",
    "print len(z)\n"
   ]
  },
  {
   "cell_type": "code",
   "execution_count": 8,
   "metadata": {
    "collapsed": false
   },
   "outputs": [],
   "source": [
    "# t will hold the community labels for comparison with the clustering results\n",
    "t=[]\n",
    "for i in range(crime_mat.shape[0]):\n",
    "    t.append((int(i/ndays)+1))"
   ]
  },
  {
   "cell_type": "code",
   "execution_count": 9,
   "metadata": {
    "collapsed": false
   },
   "outputs": [],
   "source": [
    "# save the matrices\n",
    "with open('crime_mat.csv','w') as outf:\n",
    "    for i in range(crime_mat.shape[0]):\n",
    "        outf.write(str(t[i]))\n",
    "        for j in range(0,crime_mat.shape[1]):\n",
    "            outf.write(','+str(crime_mat[i,j]))\n",
    "        outf.write('\\n')\n",
    "with open('crime_norm.csv','w') as outf:\n",
    "    for i in range(crime_norm.shape[0]):\n",
    "        outf.write(str(t[i]))\n",
    "        for j in range(0,crime_norm.shape[1]):\n",
    "            outf.write(','+str(crime_norm[i,j]))\n",
    "        outf.write('\\n')"
   ]
  },
  {
   "cell_type": "code",
   "execution_count": 10,
   "metadata": {
    "collapsed": true
   },
   "outputs": [],
   "source": [
    "from sklearn.cluster import KMeans\n",
    "from sklearn.metrics import completeness_score, homogeneity_score"
   ]
  },
  {
   "cell_type": "code",
   "execution_count": 11,
   "metadata": {
    "collapsed": false
   },
   "outputs": [
    {
     "name": "stdout",
     "output_type": "stream",
     "text": [
      "1 1.0 2.46003114188e-16 0:00:01.577000\n",
      "2 0.525648255013 0.0650664615921 0:00:08.915000\n",
      "3 0.487729082793 0.0981611636792 0:00:23.420000\n",
      "4 0.465009136986 0.108633835896 0:00:34.169000\n",
      "5 0.4633145674 0.123561719393 0:00:37.500000\n",
      "6 0.420059912913 0.131959384602 0:00:47.985000\n",
      "7 0.398634284836 0.134335183086 0:01:00.137000\n",
      "8 0.363341416012 0.139836835293 0:01:11.925000\n",
      "9 0.35976833588 0.148442449975 0:01:14.898000\n",
      "10 0.345996722249 0.150586452852 0:01:28.947000\n",
      "11 0.336403671061 0.15348443251 0:01:58.945000\n",
      "12 0.327729719445 0.155496927721 0:02:03.849000\n",
      "13 0.321168670326 0.157147005512 0:02:23.670000\n",
      "14 0.31248245726 0.158459252264 0:02:37.741000\n",
      "15 0.309131194964 0.159564923841 0:03:05.603000\n",
      "16 0.305593801552 0.160635128582 0:03:05.197000\n",
      "17 0.302628280544 0.162324251242 0:04:03.388000\n",
      "18 0.297230448157 0.163484379692 0:03:45.345000\n",
      "19 0.293285803669 0.164695417805 0:03:55.185000\n",
      "0:34:28.404000\n"
     ]
    }
   ],
   "source": [
    "ss=dt.datetime.now()\n",
    "complt_e=[]\n",
    "homoge_e=[]\n",
    "for k in range(1,20):\n",
    "    mx_c=[]\n",
    "    mx_h=[]\n",
    "    sss=dt.datetime.now()\n",
    "    for i in range(10):\n",
    "        kclus=KMeans(n_clusters=k).fit(crime_mat)\n",
    "        c = kclus.labels_\n",
    "        hom = homogeneity_score(t,c)\n",
    "        com = completeness_score(t,c)\n",
    "        mx_h.append(hom)\n",
    "        mx_c.append(com)\n",
    "        #if hom > mx_h:\n",
    "        #    mx_h = hom\n",
    "        #if com > mx_c:\n",
    "        #    mx_c = com\n",
    "    mx_h=np.mean(mx_h)\n",
    "    mx_c=np.mean(mx_c)\n",
    "    homoge_e.append(mx_h)\n",
    "    complt_e.append(mx_c)\n",
    "    print k,mx_c,mx_h, dt.datetime.now()-sss\n",
    "print dt.datetime.now()-ss"
   ]
  },
  {
   "cell_type": "code",
   "execution_count": 12,
   "metadata": {
    "collapsed": false
   },
   "outputs": [
    {
     "name": "stdout",
     "output_type": "stream",
     "text": [
      "1 1.0 2.46003114188e-16 0:00:02.054000\n",
      "2 0.115140149817 0.0176752591623 0:00:09.914000\n",
      "3 0.142326273257 0.0327257665185 0:00:18.824000\n",
      "4 0.152191487028 0.043290333667 0:00:23.699000\n",
      "5 0.146291069804 0.0470557609286 0:00:26.041000\n",
      "6 0.137119852947 0.0491023140936 0:00:28.069000\n",
      "7 0.135584495166 0.0547953721726 0:00:36.266000\n",
      "8 0.129410182958 0.0573881756317 0:00:42.034000\n",
      "9 0.126248635757 0.0595560990788 0:00:50.248000\n",
      "10 0.125692339425 0.0617079943415 0:01:00.791000\n",
      "11 0.128142720412 0.0657579619849 0:01:04.716000\n",
      "12 0.128903149958 0.0686213913936 0:01:08.532000\n",
      "13 0.128404716226 0.0704503562971 0:01:20.720000\n",
      "14 0.12904888077 0.0732442539695 0:01:22.486000\n",
      "15 0.128886073315 0.0746543856933 0:01:29.036000\n",
      "16 0.127471243241 0.0758005896536 0:01:35.096000\n",
      "17 0.128393091443 0.0781615096331 0:01:42.426000\n",
      "18 0.126934928991 0.0793041361781 0:01:51.739000\n",
      "19 0.126987802353 0.0808305491861 0:01:53.616000\n",
      "0:18:26.313000\n"
     ]
    }
   ],
   "source": [
    "ss=dt.datetime.now()\n",
    "complt_c=[]\n",
    "homoge_c=[]\n",
    "for k in range(1,20):\n",
    "    mx_c=[]\n",
    "    mx_h=[]\n",
    "    sss=dt.datetime.now()\n",
    "    for i in range(10):\n",
    "        kclus=KMeans(n_clusters=k).fit(crime_norm)\n",
    "        c = kclus.labels_\n",
    "        hom = homogeneity_score(t,c)\n",
    "        com = completeness_score(t,c)\n",
    "        mx_h.append(hom)\n",
    "        mx_c.append(com)\n",
    "        #if hom > mx_h:\n",
    "        #    mx_h = hom\n",
    "        #if com > mx_c:\n",
    "        #    mx_c = com\n",
    "    mx_h=np.mean(mx_h)\n",
    "    mx_c=np.mean(mx_c)\n",
    "    homoge_c.append(mx_h)\n",
    "    complt_c.append(mx_c)\n",
    "    print k,mx_c,mx_h, dt.datetime.now()-sss\n",
    "print dt.datetime.now()-ss"
   ]
  },
  {
   "cell_type": "code",
   "execution_count": null,
   "metadata": {
    "collapsed": false
   },
   "outputs": [],
   "source": []
  },
  {
   "cell_type": "code",
   "execution_count": 13,
   "metadata": {
    "collapsed": false
   },
   "outputs": [],
   "source": [
    "xaxis=range(1,20)\n",
    "plt.figure()\n",
    "plt.plot(xaxis,homoge_c,'orange',label='Normed\\nDistance\\nHomogeneity')\n",
    "plt.plot(xaxis,complt_c,'green',label='Normed\\nDistance\\nCompleteness')\n",
    "plt.plot(xaxis,homoge_e,'red',label='Unnormed\\nDistance\\nHomogeneity')\n",
    "plt.plot(xaxis,complt_e,'blue',label='Unnormed\\nDistance\\nCompleteness')\n",
    "plt.plot(xaxis,homoge_c,'.',color='orange')\n",
    "plt.plot(xaxis,complt_c,'.',color='green')\n",
    "plt.plot(xaxis,homoge_e,'.',color='red')\n",
    "plt.plot(xaxis,complt_e,'.',color='blue')\n",
    "plt.title('Homogeneity and Completeness\\nBetween Cluster and Beat')\n",
    "plt.xlabel('Number of clusters')\n",
    "plt.ylabel('Score')\n",
    "plt.legend()\n",
    "plt.show()"
   ]
  },
  {
   "cell_type": "code",
   "execution_count": 14,
   "metadata": {
    "collapsed": true
   },
   "outputs": [],
   "source": [
    "def clus_stats(clus,K):\n",
    "    clus_count = [] # size of cluster\n",
    "    for k in range(K):\n",
    "        clus_count.append(sum(clus.labels_==k)) # sum total entries in cluster\n",
    "    return(clus_count)"
   ]
  },
  {
   "cell_type": "code",
   "execution_count": 15,
   "metadata": {
    "collapsed": false
   },
   "outputs": [
    {
     "name": "stdout",
     "output_type": "stream",
     "text": [
      "[45411, 6117, 1066, 19363, 8662]\n",
      "1.60591925307\n",
      "[ 0.02  0.38  0.1   0.49  0.01  0.17  0.07  1.28  0.11  0.17  0.35  0.6 ]\n",
      "12.984759469\n",
      "[  0.05   1.5    0.29   2.41   0.03   1.09   0.28  12.14   0.35   0.82   1.31   3.06]\n",
      "18.2678787445\n",
      "[  0.16  11.69   0.81   3.22   0.15   1.28   0.97  10.58   1.41   1.52   4.58   6.79]\n",
      "5.63601044212\n",
      "[ 0.03  0.74  0.2   1.05  0.02  0.41  0.18  5.18  0.27  0.41  0.82  1.46]\n",
      "7.55987104894\n",
      "[ 0.06  4.18  0.35  1.31  0.06  0.45  0.47  4.43  0.56  0.73  2.23  3.46]\n"
     ]
    }
   ],
   "source": [
    "K=5\n",
    "kclus=KMeans(n_clusters=K).fit(crime_mat)\n",
    "print clus_stats(kclus,K)\n",
    "for c in kclus.cluster_centers_:\n",
    "    print np.linalg.norm(c)\n",
    "    print c"
   ]
  },
  {
   "cell_type": "code",
   "execution_count": 16,
   "metadata": {
    "collapsed": false,
    "scrolled": true
   },
   "outputs": [
    {
     "name": "stdout",
     "output_type": "stream",
     "text": [
      "3.73612823674\n",
      "Property a:f d:f 1.27607010745\n",
      "Violent a:f d:f 0.602408842699\n",
      "Violent a:f d:f 0.487735599788\n",
      "Violent a:t d:f 0.375264224062\n",
      "Violent a:f d:t 0.354412541836\n",
      "\n",
      "23.3302812296\n",
      "Property a:f d:f 12.137998692\n",
      "Violent a:f d:f 3.05673642904\n",
      "Violent a:f d:f 2.41219751472\n",
      "Violent a:t d:f 1.50098103336\n",
      "Violent a:f d:t 1.30591890124\n",
      "\n",
      "43.1480787254\n",
      "Violent a:t d:f 11.694470478\n",
      "Property a:f d:f 10.5810684161\n",
      "Violent a:f d:f 6.79475164011\n",
      "Violent a:f d:t 4.57544517338\n",
      "Violent a:f d:f 3.21649484536\n",
      "\n",
      "10.7756936909\n",
      "Property a:f d:f 5.17831860693\n",
      "Violent a:f d:f 1.46411409084\n",
      "Violent a:f d:f 1.04743450628\n",
      "Violent a:f d:t 0.822921510877\n",
      "Violent a:t d:f 0.744794088772\n",
      "\n",
      "18.2796815507\n",
      "Property a:f d:f 4.42909888081\n",
      "Violent a:t d:f 4.18206992039\n",
      "Violent a:f d:f 3.45886696666\n",
      "Violent a:f d:t 2.22729895004\n",
      "Violent a:f d:f 1.31498788508\n",
      "\n"
     ]
    }
   ],
   "source": [
    "for c in kclus.cluster_centers_:\n",
    "    print sum(c)\n",
    "    for i in np.argsort(c)[::-1][:5]:\n",
    "        r=i%4\n",
    "        if r==0:\n",
    "            s='a:t d:t'\n",
    "        elif r==1:\n",
    "            s='a:t d:f'\n",
    "        elif r==2:\n",
    "            s='a:f d:t'\n",
    "        else:\n",
    "            s='a:f d:f'\n",
    "        r=int(i/4)\n",
    "        if r==0:\n",
    "            p='Other'\n",
    "        if r==1:\n",
    "            p='Property'\n",
    "        else:\n",
    "            p='Violent'\n",
    "        print p, s,c[i]\n",
    "    print"
   ]
  },
  {
   "cell_type": "code",
   "execution_count": 17,
   "metadata": {
    "collapsed": false
   },
   "outputs": [
    {
     "name": "stdout",
     "output_type": "stream",
     "text": [
      "[ 45.   4.   1.  16.  10.]\n"
     ]
    }
   ],
   "source": [
    "assign=kclus.labels_\n",
    "clus_count = np.zeros(5)\n",
    "comm_clus = []\n",
    "with open('comm_clus.csv','w') as outf:\n",
    "    i=0\n",
    "    outf.write('comm,cluster,name\\n')\n",
    "    c_vote=None\n",
    "    while i<len(assign):\n",
    "        if i%ndays==0:\n",
    "            if c_vote:\n",
    "                c = int(max(set(c_vote),key=c_vote.count))\n",
    "                outs = \"%s,%s,%s\\n\"%(int(i/ndays)+1,c,comm_dict[str(int(i/ndays))])\n",
    "                comm_clus.append(c)\n",
    "#                print outs\n",
    "                outf.write(outs)\n",
    "                clus_count[c]+=1 \n",
    "            c_vote=[assign[i]]\n",
    "        else:\n",
    "            c_vote.append(assign[i])\n",
    "        i+=1\n",
    "    c = int(max(set(c_vote),key=c_vote.count))\n",
    "    outf.write(\"%s,%s,%s\\n\"%(int(i/ndays)+1,c,comm_dict[str(int(i/ndays))]))\n",
    "    comm_clus.append(c)\n",
    "print clus_count"
   ]
  },
  {
   "cell_type": "code",
   "execution_count": 18,
   "metadata": {
    "collapsed": false
   },
   "outputs": [
    {
     "name": "stdout",
     "output_type": "stream",
     "text": [
      "0 GARFIELD RIDGE\n",
      "0 EDGEWATER\n",
      "0 RIVERDALE\n",
      "1 NEAR WEST SIDE\n",
      "0 CALUMET HEIGHTS\n",
      "4 SOUTH SHORE\n",
      "0 BRIDGEPORT\n",
      "3 NEW CITY\n",
      "0 WEST ELSDON\n",
      "0 GAGE PARK\n",
      "0 CLEARING\n",
      "4 ROSELAND\n",
      "3 CHICAGO LAWN\n",
      "4 WEST ENGLEWOOD\n",
      "4 ENGLEWOOD\n",
      "4 GREATER GRAND CROSSING\n",
      "0 EAST SIDE\n",
      "3 WEST PULLMAN\n",
      "1 WEST TOWN\n",
      "2 AUSTIN\n",
      "4 WEST GARFIELD PARK\n",
      "4 EAST GARFIELD PARK\n",
      "0 HERMOSA\n",
      "0 AVONDALE\n",
      "3 LOGAN SQUARE\n",
      "4 HUMBOLDT PARK\n",
      "3 SOUTH CHICAGO\n",
      "0 BURNSIDE\n",
      "3 CHATHAM\n",
      "0 AVALON PARK\n",
      "3 WOODLAWN\n",
      "4 NORTH LAWNDALE\n",
      "0 WASHINGTON PARK\n",
      "0 HYDE PARK\n",
      "3 ROGERS PARK\n",
      "3 UPTOWN\n",
      "3 WEST RIDGE\n",
      "0 NORTH CENTER\n",
      "0 LINCOLN SQUARE\n",
      "3 LINCOLN PARK\n",
      "3 LAKE VIEW\n",
      "0 EDISON PARK\n",
      "1 NEAR NORTH SIDE\n",
      "0 SOUTH DEERING\n",
      "0 NORTH PARK\n",
      "0 WEST LAWN\n",
      "0 OHARE\n",
      "0 MORGAN PARK\n",
      "0 FOREST GLEN\n",
      "0 WASHINGTON HEIGHTS\n",
      "0 BEVERLY\n",
      "4 AUBURN GRESHAM\n",
      "0 ASHBURN\n",
      "0 MCKINLEY PARK\n",
      "0 BRIGHTON PARK\n",
      "0 JEFFERSON PARK\n",
      "0 NORWOOD PARK\n",
      "0 KENWOOD\n",
      "0 GRAND BOULEVARD\n",
      "3 PORTAGE PARK\n",
      "0 ALBANY PARK\n",
      "0 DUNNING\n",
      "3 IRVING PARK\n",
      "3 BELMONT CRAGIN\n",
      "0 MONTCLARE\n",
      "0 LOWER WEST SIDE\n",
      "3 SOUTH LAWNDALE\n",
      "0 FULLER PARK\n",
      "0 OAKLAND\n",
      "0 DOUGLAS\n",
      "0 ARMOUR SQUARE\n",
      "0 NEAR SOUTH SIDE\n",
      "0 HEGEWISCH\n",
      "0 MOUNT GREENWOOD\n",
      "1 LOOP\n",
      "0 ARCHER HEIGHTS\n",
      "0 PULLMAN\n"
     ]
    }
   ],
   "source": [
    "for c in comm_dict:print comm_clus[int(c)-1], comm_dict[c]"
   ]
  }
 ],
 "metadata": {
  "anaconda-cloud": {},
  "kernelspec": {
   "display_name": "Python [Root]",
   "language": "python",
   "name": "Python [Root]"
  },
  "language_info": {
   "codemirror_mode": {
    "name": "ipython",
    "version": 2
   },
   "file_extension": ".py",
   "mimetype": "text/x-python",
   "name": "python",
   "nbconvert_exporter": "python",
   "pygments_lexer": "ipython2",
   "version": "2.7.12"
  }
 },
 "nbformat": 4,
 "nbformat_minor": 0
}
