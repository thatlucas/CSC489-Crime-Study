{
 "cells": [
  {
   "cell_type": "code",
   "execution_count": 1,
   "metadata": {
    "collapsed": false
   },
   "outputs": [],
   "source": [
    "import matplotlib.pyplot as plt\n",
    "%matplotlib inline\n",
    "import datetime as dt\n",
    "import numpy as np\n",
    "import pandas as pd\n",
    "np.set_printoptions(precision=2, linewidth=120, suppress=True, edgeitems=4)\n",
    "from sklearn.cross_validation import KFold"
   ]
  },
  {
   "cell_type": "code",
   "execution_count": 2,
   "metadata": {
    "collapsed": false
   },
   "outputs": [],
   "source": [
    "comm_clus = pd.read_csv('comm_clus.csv',sep=\",\")\n",
    "comm_clus_dict = {}\n",
    "i=0\n",
    "while i<len(comm_clus):\n",
    "    comm_clus_dict[comm_clus['comm'][i]] = comm_clus['cluster'][i]\n",
    "    i+=1"
   ]
  },
  {
   "cell_type": "code",
   "execution_count": 3,
   "metadata": {
    "collapsed": false
   },
   "outputs": [
    {
     "data": {
      "text/html": [
       "<div>\n",
       "<table border=\"1\" class=\"dataframe\">\n",
       "  <thead>\n",
       "    <tr style=\"text-align: right;\">\n",
       "      <th></th>\n",
       "      <th>Day</th>\n",
       "      <th>Community</th>\n",
       "      <th>Type</th>\n",
       "      <th>Arrest</th>\n",
       "      <th>Domestic</th>\n",
       "      <th>Total</th>\n",
       "    </tr>\n",
       "  </thead>\n",
       "  <tbody>\n",
       "    <tr>\n",
       "      <th>0</th>\n",
       "      <td>0</td>\n",
       "      <td>11</td>\n",
       "      <td>Other</td>\n",
       "      <td>False</td>\n",
       "      <td>True</td>\n",
       "      <td>1</td>\n",
       "    </tr>\n",
       "    <tr>\n",
       "      <th>1</th>\n",
       "      <td>0</td>\n",
       "      <td>14</td>\n",
       "      <td>Property</td>\n",
       "      <td>False</td>\n",
       "      <td>False</td>\n",
       "      <td>1</td>\n",
       "    </tr>\n",
       "    <tr>\n",
       "      <th>2</th>\n",
       "      <td>0</td>\n",
       "      <td>16</td>\n",
       "      <td>Other</td>\n",
       "      <td>False</td>\n",
       "      <td>False</td>\n",
       "      <td>1</td>\n",
       "    </tr>\n",
       "    <tr>\n",
       "      <th>3</th>\n",
       "      <td>0</td>\n",
       "      <td>17</td>\n",
       "      <td>Property</td>\n",
       "      <td>False</td>\n",
       "      <td>False</td>\n",
       "      <td>2</td>\n",
       "    </tr>\n",
       "    <tr>\n",
       "      <th>4</th>\n",
       "      <td>0</td>\n",
       "      <td>22</td>\n",
       "      <td>Other</td>\n",
       "      <td>False</td>\n",
       "      <td>False</td>\n",
       "      <td>1</td>\n",
       "    </tr>\n",
       "  </tbody>\n",
       "</table>\n",
       "</div>"
      ],
      "text/plain": [
       "   Day  Community      Type Arrest Domestic  Total\n",
       "0    0         11     Other  False     True      1\n",
       "1    0         14  Property  False    False      1\n",
       "2    0         16     Other  False    False      1\n",
       "3    0         17  Property  False    False      2\n",
       "4    0         22     Other  False    False      1"
      ]
     },
     "execution_count": 3,
     "metadata": {},
     "output_type": "execute_result"
    }
   ],
   "source": [
    "small_set = pd.read_csv('daily_hood_type.csv')\n",
    "small_set.head()"
   ]
  },
  {
   "cell_type": "code",
   "execution_count": 4,
   "metadata": {
    "collapsed": false
   },
   "outputs": [
    {
     "name": "stdout",
     "output_type": "stream",
     "text": [
      "{'56': '0', '77': '0', '54': '0', '42': '3', '48': '0', '43': '4', '60': '0', '61': '3', '62': '0', '63': '0', '64': '0', '49': '4', '66': '3', '67': '4', '68': '4', '69': '4', '52': '0', '53': '3', '24': '1', '25': '2', '26': '4', '27': '4', '20': '0', '21': '0', '22': '3', '23': '4', '46': '3', '47': '0', '44': '3', '45': '0', '28': '1', '29': '4', '40': '0', '41': '0', '1': '3', '3': '3', '2': '3', '5': '0', '4': '0', '7': '3', '6': '3', '9': '0', '8': '1', '51': '0', '39': '0', '65': '0', '76': '0', '75': '0', '38': '0', '73': '0', '72': '0', '71': '4', '70': '0', '59': '0', '58': '0', '11': '0', '10': '0', '13': '0', '12': '0', '15': '3', '14': '0', '17': '0', '16': '3', '19': '3', '18': '0', '31': '0', '30': '3', '37': '0', '36': '0', '35': '0', '34': '0', '33': '0', '55': '0', '74': '0', '32': '1', '57': '0', '50': '0'}\n"
     ]
    }
   ],
   "source": [
    "# storing the community id to community name in a dictionary\n",
    "clus_dict = {}\n",
    "i =0 \n",
    "with open('comm_clus.csv','r') as infl:\n",
    "    for line in infl.readlines():\n",
    "        if i==0:\n",
    "            i+=1\n",
    "            continue\n",
    "        [com,clus,name]=line.strip().split(',')\n",
    "        com = str(int(com)-1)\n",
    "        clus_dict[com]=clus\n",
    "print clus_dict"
   ]
  },
  {
   "cell_type": "code",
   "execution_count": 5,
   "metadata": {
    "collapsed": false,
    "scrolled": true
   },
   "outputs": [],
   "source": [
    "DoW=np.zeros(small_set.shape[0])\n",
    "Month=np.zeros(small_set.shape[0])\n",
    "Cluster=np.zeros(small_set.shape[0])\n",
    "fd = dt.datetime.strptime('12/31/2013',\"%m/%d/%Y\")\n",
    "for i in range(small_set.shape[0]):\n",
    "    days = int(small_set['Day'][i])\n",
    "    DoW[i] = (fd+dt.timedelta(days=days)).weekday()\n",
    "    Month[i] = (fd+dt.timedelta(days=days)).weekday()\n",
    "    com = str(int(small_set['Community'][i]))\n",
    "    if com == '0':\n",
    "        Cluster[i]='1'\n",
    "    else:\n",
    "        Cluster[i]=clus_dict[com]"
   ]
  },
  {
   "cell_type": "code",
   "execution_count": 6,
   "metadata": {
    "collapsed": false
   },
   "outputs": [
    {
     "data": {
      "text/html": [
       "<div>\n",
       "<table border=\"1\" class=\"dataframe\">\n",
       "  <thead>\n",
       "    <tr style=\"text-align: right;\">\n",
       "      <th></th>\n",
       "      <th>Day</th>\n",
       "      <th>Community</th>\n",
       "      <th>Type</th>\n",
       "      <th>Arrest</th>\n",
       "      <th>Domestic</th>\n",
       "      <th>Total</th>\n",
       "      <th>DoW</th>\n",
       "      <th>Month</th>\n",
       "      <th>Cluster</th>\n",
       "    </tr>\n",
       "  </thead>\n",
       "  <tbody>\n",
       "    <tr>\n",
       "      <th>0</th>\n",
       "      <td>0</td>\n",
       "      <td>11</td>\n",
       "      <td>Other</td>\n",
       "      <td>False</td>\n",
       "      <td>True</td>\n",
       "      <td>1</td>\n",
       "      <td>1.0</td>\n",
       "      <td>1.0</td>\n",
       "      <td>0.0</td>\n",
       "    </tr>\n",
       "    <tr>\n",
       "      <th>1</th>\n",
       "      <td>0</td>\n",
       "      <td>14</td>\n",
       "      <td>Property</td>\n",
       "      <td>False</td>\n",
       "      <td>False</td>\n",
       "      <td>1</td>\n",
       "      <td>1.0</td>\n",
       "      <td>1.0</td>\n",
       "      <td>0.0</td>\n",
       "    </tr>\n",
       "    <tr>\n",
       "      <th>2</th>\n",
       "      <td>0</td>\n",
       "      <td>16</td>\n",
       "      <td>Other</td>\n",
       "      <td>False</td>\n",
       "      <td>False</td>\n",
       "      <td>1</td>\n",
       "      <td>1.0</td>\n",
       "      <td>1.0</td>\n",
       "      <td>3.0</td>\n",
       "    </tr>\n",
       "    <tr>\n",
       "      <th>3</th>\n",
       "      <td>0</td>\n",
       "      <td>17</td>\n",
       "      <td>Property</td>\n",
       "      <td>False</td>\n",
       "      <td>False</td>\n",
       "      <td>2</td>\n",
       "      <td>1.0</td>\n",
       "      <td>1.0</td>\n",
       "      <td>0.0</td>\n",
       "    </tr>\n",
       "    <tr>\n",
       "      <th>4</th>\n",
       "      <td>0</td>\n",
       "      <td>22</td>\n",
       "      <td>Other</td>\n",
       "      <td>False</td>\n",
       "      <td>False</td>\n",
       "      <td>1</td>\n",
       "      <td>1.0</td>\n",
       "      <td>1.0</td>\n",
       "      <td>3.0</td>\n",
       "    </tr>\n",
       "  </tbody>\n",
       "</table>\n",
       "</div>"
      ],
      "text/plain": [
       "   Day  Community      Type Arrest Domestic  Total  DoW  Month  Cluster\n",
       "0    0         11     Other  False     True      1  1.0    1.0      0.0\n",
       "1    0         14  Property  False    False      1  1.0    1.0      0.0\n",
       "2    0         16     Other  False    False      1  1.0    1.0      3.0\n",
       "3    0         17  Property  False    False      2  1.0    1.0      0.0\n",
       "4    0         22     Other  False    False      1  1.0    1.0      3.0"
      ]
     },
     "execution_count": 6,
     "metadata": {},
     "output_type": "execute_result"
    }
   ],
   "source": [
    "small_set['DoW']=pd.Series(DoW)\n",
    "small_set['Month']=pd.Series(Month)\n",
    "small_set['Cluster']=pd.Series(Cluster)\n",
    "small_set.head()"
   ]
  },
  {
   "cell_type": "code",
   "execution_count": 7,
   "metadata": {
    "collapsed": false
   },
   "outputs": [
    {
     "name": "stdout",
     "output_type": "stream",
     "text": [
      "(308981, 9)\n"
     ]
    }
   ],
   "source": [
    "print small_set.shape"
   ]
  },
  {
   "cell_type": "markdown",
   "metadata": {
    "collapsed": false
   },
   "source": [
    "Since all the features are nominal (total is the only true number, and that is the dependent variable) we must cast the variables into dummy indexes. Luckily, Pandas can do that quickly for us.\n",
    "\n",
    "First create new dummy dataframes and then merge the dummy frames with Total"
   ]
  },
  {
   "cell_type": "code",
   "execution_count": 8,
   "metadata": {
    "collapsed": false
   },
   "outputs": [],
   "source": [
    "dow_df=pd.get_dummies(small_set['DoW'])\n",
    "month_df=pd.get_dummies(small_set['Month'])\n",
    "clus_df=pd.get_dummies(small_set['Cluster'])\n",
    "type_df=pd.get_dummies(small_set['Type'])"
   ]
  },
  {
   "cell_type": "code",
   "execution_count": 9,
   "metadata": {
    "collapsed": false
   },
   "outputs": [],
   "source": [
    "dow_df=dow_df.rename(index=int,columns={0:'dow_0',1:'dow_1',2:'dow_2',3:'dow_3',4:'dow_4',5:'dow_5',6:'dow_6'})\n",
    "month_df=month_df.rename(index=int,columns={1:'jan',2:'feb',3:'mar',4:'apr',5:'may',6:'jun',7:'jul',8:'aug',\n",
    "                                            9:'sep',10:'oct',11:'nov',12:'dec'})\n",
    "clus_df=clus_df.rename(index=int,columns={0:'c0',1:'c1',2:'c2',3:'c3',4:'c4'})"
   ]
  },
  {
   "cell_type": "code",
   "execution_count": 10,
   "metadata": {
    "collapsed": false
   },
   "outputs": [],
   "source": [
    "reg_clus=pd.concat([pd.DataFrame(small_set['Total']),dow_df,month_df,clus_df,type_df],axis=1)"
   ]
  },
  {
   "cell_type": "code",
   "execution_count": 11,
   "metadata": {
    "collapsed": false
   },
   "outputs": [
    {
     "name": "stdout",
     "output_type": "stream",
     "text": [
      "   Total  dow_0  dow_1  dow_2  dow_3  dow_4  dow_5  dow_6  0.0  jan   ...     \\\n",
      "0      1    0.0    1.0    0.0    0.0    0.0    0.0    0.0  0.0  1.0   ...      \n",
      "1      1    0.0    1.0    0.0    0.0    0.0    0.0    0.0  0.0  1.0   ...      \n",
      "2      1    0.0    1.0    0.0    0.0    0.0    0.0    0.0  0.0  1.0   ...      \n",
      "3      2    0.0    1.0    0.0    0.0    0.0    0.0    0.0  0.0  1.0   ...      \n",
      "4      1    0.0    1.0    0.0    0.0    0.0    0.0    0.0  0.0  1.0   ...      \n",
      "\n",
      "   may  jun   c0   c1   c2   c3   c4  Other  Property  Violent  \n",
      "0  0.0  0.0  1.0  0.0  0.0  0.0  0.0    1.0       0.0      0.0  \n",
      "1  0.0  0.0  1.0  0.0  0.0  0.0  0.0    0.0       1.0      0.0  \n",
      "2  0.0  0.0  0.0  0.0  0.0  1.0  0.0    1.0       0.0      0.0  \n",
      "3  0.0  0.0  1.0  0.0  0.0  0.0  0.0    0.0       1.0      0.0  \n",
      "4  0.0  0.0  0.0  0.0  0.0  1.0  0.0    1.0       0.0      0.0  \n",
      "\n",
      "[5 rows x 23 columns]\n",
      "(308981, 23)\n"
     ]
    }
   ],
   "source": [
    "print reg_clus.head()\n",
    "print reg_clus.shape"
   ]
  },
  {
   "cell_type": "markdown",
   "metadata": {},
   "source": [
    "Now to regress. Use LinearRegression() from scikit-learn's linear_model module"
   ]
  },
  {
   "cell_type": "code",
   "execution_count": 12,
   "metadata": {
    "collapsed": false
   },
   "outputs": [],
   "source": [
    "from sklearn import linear_model as lm"
   ]
  },
  {
   "cell_type": "code",
   "execution_count": 13,
   "metadata": {
    "collapsed": false
   },
   "outputs": [],
   "source": [
    "clus_lm = lm.LinearRegression().fit(reg_clus.drop('Total',axis=1),reg_clus['Total'])"
   ]
  },
  {
   "cell_type": "code",
   "execution_count": 14,
   "metadata": {
    "collapsed": false
   },
   "outputs": [
    {
     "data": {
      "text/plain": [
       "0.20155852895123827"
      ]
     },
     "execution_count": 14,
     "metadata": {},
     "output_type": "execute_result"
    }
   ],
   "source": [
    "clus_lm.score(reg_clus.drop('Total',axis=1),reg_clus['Total'])"
   ]
  },
  {
   "cell_type": "markdown",
   "metadata": {},
   "source": [
    "Not great. The r-squared is low enough to show this regression is effectively useless. Just as comparison, we repeat the regression using neighborhoods instead of cluster."
   ]
  },
  {
   "cell_type": "code",
   "execution_count": 15,
   "metadata": {
    "collapsed": true
   },
   "outputs": [],
   "source": [
    "comm_df=pd.get_dummies(small_set['Community'])"
   ]
  },
  {
   "cell_type": "code",
   "execution_count": 16,
   "metadata": {
    "collapsed": false
   },
   "outputs": [],
   "source": [
    "reg_comm=pd.concat([pd.DataFrame(small_set['Total']),dow_df,month_df,comm_df,type_df],axis=1)"
   ]
  },
  {
   "cell_type": "code",
   "execution_count": 17,
   "metadata": {
    "collapsed": false
   },
   "outputs": [
    {
     "data": {
      "text/html": [
       "<div>\n",
       "<table border=\"1\" class=\"dataframe\">\n",
       "  <thead>\n",
       "    <tr style=\"text-align: right;\">\n",
       "      <th></th>\n",
       "      <th>Total</th>\n",
       "      <th>dow_0</th>\n",
       "      <th>dow_1</th>\n",
       "      <th>dow_2</th>\n",
       "      <th>dow_3</th>\n",
       "      <th>dow_4</th>\n",
       "      <th>dow_5</th>\n",
       "      <th>dow_6</th>\n",
       "      <th>0.0</th>\n",
       "      <th>jan</th>\n",
       "      <th>...</th>\n",
       "      <th>71</th>\n",
       "      <th>72</th>\n",
       "      <th>73</th>\n",
       "      <th>74</th>\n",
       "      <th>75</th>\n",
       "      <th>76</th>\n",
       "      <th>77</th>\n",
       "      <th>Other</th>\n",
       "      <th>Property</th>\n",
       "      <th>Violent</th>\n",
       "    </tr>\n",
       "  </thead>\n",
       "  <tbody>\n",
       "    <tr>\n",
       "      <th>0</th>\n",
       "      <td>1</td>\n",
       "      <td>0.0</td>\n",
       "      <td>1.0</td>\n",
       "      <td>0.0</td>\n",
       "      <td>0.0</td>\n",
       "      <td>0.0</td>\n",
       "      <td>0.0</td>\n",
       "      <td>0.0</td>\n",
       "      <td>0.0</td>\n",
       "      <td>1.0</td>\n",
       "      <td>...</td>\n",
       "      <td>0.0</td>\n",
       "      <td>0.0</td>\n",
       "      <td>0.0</td>\n",
       "      <td>0.0</td>\n",
       "      <td>0.0</td>\n",
       "      <td>0.0</td>\n",
       "      <td>0.0</td>\n",
       "      <td>1.0</td>\n",
       "      <td>0.0</td>\n",
       "      <td>0.0</td>\n",
       "    </tr>\n",
       "    <tr>\n",
       "      <th>1</th>\n",
       "      <td>1</td>\n",
       "      <td>0.0</td>\n",
       "      <td>1.0</td>\n",
       "      <td>0.0</td>\n",
       "      <td>0.0</td>\n",
       "      <td>0.0</td>\n",
       "      <td>0.0</td>\n",
       "      <td>0.0</td>\n",
       "      <td>0.0</td>\n",
       "      <td>1.0</td>\n",
       "      <td>...</td>\n",
       "      <td>0.0</td>\n",
       "      <td>0.0</td>\n",
       "      <td>0.0</td>\n",
       "      <td>0.0</td>\n",
       "      <td>0.0</td>\n",
       "      <td>0.0</td>\n",
       "      <td>0.0</td>\n",
       "      <td>0.0</td>\n",
       "      <td>1.0</td>\n",
       "      <td>0.0</td>\n",
       "    </tr>\n",
       "    <tr>\n",
       "      <th>2</th>\n",
       "      <td>1</td>\n",
       "      <td>0.0</td>\n",
       "      <td>1.0</td>\n",
       "      <td>0.0</td>\n",
       "      <td>0.0</td>\n",
       "      <td>0.0</td>\n",
       "      <td>0.0</td>\n",
       "      <td>0.0</td>\n",
       "      <td>0.0</td>\n",
       "      <td>1.0</td>\n",
       "      <td>...</td>\n",
       "      <td>0.0</td>\n",
       "      <td>0.0</td>\n",
       "      <td>0.0</td>\n",
       "      <td>0.0</td>\n",
       "      <td>0.0</td>\n",
       "      <td>0.0</td>\n",
       "      <td>0.0</td>\n",
       "      <td>1.0</td>\n",
       "      <td>0.0</td>\n",
       "      <td>0.0</td>\n",
       "    </tr>\n",
       "    <tr>\n",
       "      <th>3</th>\n",
       "      <td>2</td>\n",
       "      <td>0.0</td>\n",
       "      <td>1.0</td>\n",
       "      <td>0.0</td>\n",
       "      <td>0.0</td>\n",
       "      <td>0.0</td>\n",
       "      <td>0.0</td>\n",
       "      <td>0.0</td>\n",
       "      <td>0.0</td>\n",
       "      <td>1.0</td>\n",
       "      <td>...</td>\n",
       "      <td>0.0</td>\n",
       "      <td>0.0</td>\n",
       "      <td>0.0</td>\n",
       "      <td>0.0</td>\n",
       "      <td>0.0</td>\n",
       "      <td>0.0</td>\n",
       "      <td>0.0</td>\n",
       "      <td>0.0</td>\n",
       "      <td>1.0</td>\n",
       "      <td>0.0</td>\n",
       "    </tr>\n",
       "    <tr>\n",
       "      <th>4</th>\n",
       "      <td>1</td>\n",
       "      <td>0.0</td>\n",
       "      <td>1.0</td>\n",
       "      <td>0.0</td>\n",
       "      <td>0.0</td>\n",
       "      <td>0.0</td>\n",
       "      <td>0.0</td>\n",
       "      <td>0.0</td>\n",
       "      <td>0.0</td>\n",
       "      <td>1.0</td>\n",
       "      <td>...</td>\n",
       "      <td>0.0</td>\n",
       "      <td>0.0</td>\n",
       "      <td>0.0</td>\n",
       "      <td>0.0</td>\n",
       "      <td>0.0</td>\n",
       "      <td>0.0</td>\n",
       "      <td>0.0</td>\n",
       "      <td>1.0</td>\n",
       "      <td>0.0</td>\n",
       "      <td>0.0</td>\n",
       "    </tr>\n",
       "  </tbody>\n",
       "</table>\n",
       "<p>5 rows × 96 columns</p>\n",
       "</div>"
      ],
      "text/plain": [
       "   Total  dow_0  dow_1  dow_2  dow_3  dow_4  dow_5  dow_6  0.0  jan   ...     \\\n",
       "0      1    0.0    1.0    0.0    0.0    0.0    0.0    0.0  0.0  1.0   ...      \n",
       "1      1    0.0    1.0    0.0    0.0    0.0    0.0    0.0  0.0  1.0   ...      \n",
       "2      1    0.0    1.0    0.0    0.0    0.0    0.0    0.0  0.0  1.0   ...      \n",
       "3      2    0.0    1.0    0.0    0.0    0.0    0.0    0.0  0.0  1.0   ...      \n",
       "4      1    0.0    1.0    0.0    0.0    0.0    0.0    0.0  0.0  1.0   ...      \n",
       "\n",
       "    71   72   73   74   75   76   77  Other  Property  Violent  \n",
       "0  0.0  0.0  0.0  0.0  0.0  0.0  0.0    1.0       0.0      0.0  \n",
       "1  0.0  0.0  0.0  0.0  0.0  0.0  0.0    0.0       1.0      0.0  \n",
       "2  0.0  0.0  0.0  0.0  0.0  0.0  0.0    1.0       0.0      0.0  \n",
       "3  0.0  0.0  0.0  0.0  0.0  0.0  0.0    0.0       1.0      0.0  \n",
       "4  0.0  0.0  0.0  0.0  0.0  0.0  0.0    1.0       0.0      0.0  \n",
       "\n",
       "[5 rows x 96 columns]"
      ]
     },
     "execution_count": 17,
     "metadata": {},
     "output_type": "execute_result"
    }
   ],
   "source": [
    "reg_comm.head()"
   ]
  },
  {
   "cell_type": "code",
   "execution_count": 18,
   "metadata": {
    "collapsed": false
   },
   "outputs": [],
   "source": [
    "comm_lm = lm.LinearRegression().fit(reg_comm.drop('Total',axis=1),reg_comm['Total'])"
   ]
  },
  {
   "cell_type": "code",
   "execution_count": 19,
   "metadata": {
    "collapsed": false
   },
   "outputs": [
    {
     "data": {
      "text/plain": [
       "0.21435838597594958"
      ]
     },
     "execution_count": 19,
     "metadata": {},
     "output_type": "execute_result"
    }
   ],
   "source": [
    "comm_lm.score(reg_comm.drop('Total',axis=1),reg_comm['Total'])"
   ]
  },
  {
   "cell_type": "markdown",
   "metadata": {},
   "source": [
    "Not much better. So with 77 community levels we get about the same predictive quality as with five clusters, lending some credence to the value of the clusters."
   ]
  },
  {
   "cell_type": "markdown",
   "metadata": {
    "collapsed": true
   },
   "source": [
    "What if we repeat with daily totals, not sperated by type? We will get daily sums for the neighborhoods, disregarding the type, or whether there was an arrest or if it was domestic"
   ]
  },
  {
   "cell_type": "code",
   "execution_count": 20,
   "metadata": {
    "collapsed": false
   },
   "outputs": [
    {
     "data": {
      "text/plain": [
       "Day  Community\n",
       "0    7             3\n",
       "     8             2\n",
       "     11            1\n",
       "     14            1\n",
       "     16            1\n",
       "     17            2\n",
       "     22            2\n",
       "     24            2\n",
       "     25            2\n",
       "     26            1\n",
       "     27            2\n",
       "     28            1\n",
       "     29            3\n",
       "     30            1\n",
       "     32            1\n",
       "     39            2\n",
       "     42            1\n",
       "     43            3\n",
       "     44            1\n",
       "     48            2\n",
       "     49            1\n",
       "     53            1\n",
       "     54            1\n",
       "     60            2\n",
       "     61            1\n",
       "     68            1\n",
       "     69            1\n",
       "     70            1\n",
       "     71            2\n",
       "1    1            14\n",
       "     2             8\n",
       "     3             9\n",
       "     4             6\n",
       "     5             6\n",
       "     6            23\n",
       "     7            10\n",
       "     8            56\n",
       "     9             2\n",
       "     10            4\n",
       "     11            4\n",
       "     12            3\n",
       "     13            3\n",
       "     14           12\n",
       "     15            9\n",
       "     16           10\n",
       "     17            6\n",
       "     18            2\n",
       "     19           11\n",
       "     20            7\n",
       "     21           11\n",
       "Name: Total, dtype: int64"
      ]
     },
     "execution_count": 20,
     "metadata": {},
     "output_type": "execute_result"
    }
   ],
   "source": [
    "daily_agg = small_set.groupby(by=['Day','Community'])['Total'].sum()\n",
    "daily_agg[:50]"
   ]
  },
  {
   "cell_type": "code",
   "execution_count": 21,
   "metadata": {
    "collapsed": false
   },
   "outputs": [
    {
     "data": {
      "text/plain": [
       "2"
      ]
     },
     "execution_count": 21,
     "metadata": {},
     "output_type": "execute_result"
    }
   ],
   "source": [
    "daily_agg[daily_agg.index[1]]"
   ]
  },
  {
   "cell_type": "code",
   "execution_count": 22,
   "metadata": {
    "collapsed": false
   },
   "outputs": [],
   "source": [
    "i=0\n",
    "with open('daily_comm_totals.csv','w') as outf:\n",
    "    outf.write('Day,Community,Total\\n')\n",
    "    while i<len(daily_agg):\n",
    "        ind = daily_agg.index[i]\n",
    "        s=''\n",
    "        for e in ind:\n",
    "            s+=str(e)+', '\n",
    "        s+=str(int(daily_agg[ind]))+'\\n'\n",
    "        outf.write(s)\n",
    "        i+=1"
   ]
  },
  {
   "cell_type": "code",
   "execution_count": 23,
   "metadata": {
    "collapsed": false
   },
   "outputs": [
    {
     "data": {
      "text/html": [
       "<div>\n",
       "<table border=\"1\" class=\"dataframe\">\n",
       "  <thead>\n",
       "    <tr style=\"text-align: right;\">\n",
       "      <th></th>\n",
       "      <th>Day</th>\n",
       "      <th>Community</th>\n",
       "      <th>Total</th>\n",
       "    </tr>\n",
       "  </thead>\n",
       "  <tbody>\n",
       "    <tr>\n",
       "      <th>0</th>\n",
       "      <td>0</td>\n",
       "      <td>7</td>\n",
       "      <td>3</td>\n",
       "    </tr>\n",
       "    <tr>\n",
       "      <th>1</th>\n",
       "      <td>0</td>\n",
       "      <td>8</td>\n",
       "      <td>2</td>\n",
       "    </tr>\n",
       "    <tr>\n",
       "      <th>2</th>\n",
       "      <td>0</td>\n",
       "      <td>11</td>\n",
       "      <td>1</td>\n",
       "    </tr>\n",
       "    <tr>\n",
       "      <th>3</th>\n",
       "      <td>0</td>\n",
       "      <td>14</td>\n",
       "      <td>1</td>\n",
       "    </tr>\n",
       "    <tr>\n",
       "      <th>4</th>\n",
       "      <td>0</td>\n",
       "      <td>16</td>\n",
       "      <td>1</td>\n",
       "    </tr>\n",
       "  </tbody>\n",
       "</table>\n",
       "</div>"
      ],
      "text/plain": [
       "   Day  Community  Total\n",
       "0    0          7      3\n",
       "1    0          8      2\n",
       "2    0         11      1\n",
       "3    0         14      1\n",
       "4    0         16      1"
      ]
     },
     "execution_count": 23,
     "metadata": {},
     "output_type": "execute_result"
    }
   ],
   "source": [
    "daily_set = pd.read_csv('daily_comm_totals.csv',',')\n",
    "daily_set.head()"
   ]
  },
  {
   "cell_type": "code",
   "execution_count": 24,
   "metadata": {
    "collapsed": false,
    "scrolled": true
   },
   "outputs": [],
   "source": [
    "DoW=np.zeros(daily_set.shape[0])\n",
    "Month=np.zeros(daily_set.shape[0])\n",
    "Cluster=np.zeros(daily_set.shape[0])\n",
    "fd = dt.datetime.strptime('12/31/2013',\"%m/%d/%Y\")\n",
    "for i in range(daily_set.shape[0]):\n",
    "    days = int(daily_set['Day'][i])\n",
    "    DoW[i] = (fd+dt.timedelta(days=days)).weekday()\n",
    "    Month[i] = (fd+dt.timedelta(days=days)).weekday()\n",
    "    com = str(int(daily_set['Community'][i]))\n",
    "    if com == '0':\n",
    "        Cluster[i]='1'\n",
    "    else:\n",
    "        Cluster[i]=clus_dict[com]"
   ]
  },
  {
   "cell_type": "code",
   "execution_count": 25,
   "metadata": {
    "collapsed": false
   },
   "outputs": [
    {
     "data": {
      "text/html": [
       "<div>\n",
       "<table border=\"1\" class=\"dataframe\">\n",
       "  <thead>\n",
       "    <tr style=\"text-align: right;\">\n",
       "      <th></th>\n",
       "      <th>Day</th>\n",
       "      <th>Community</th>\n",
       "      <th>Total</th>\n",
       "      <th>DoW</th>\n",
       "      <th>Month</th>\n",
       "      <th>Cluster</th>\n",
       "    </tr>\n",
       "  </thead>\n",
       "  <tbody>\n",
       "    <tr>\n",
       "      <th>0</th>\n",
       "      <td>0</td>\n",
       "      <td>7</td>\n",
       "      <td>3</td>\n",
       "      <td>1.0</td>\n",
       "      <td>1.0</td>\n",
       "      <td>3.0</td>\n",
       "    </tr>\n",
       "    <tr>\n",
       "      <th>1</th>\n",
       "      <td>0</td>\n",
       "      <td>8</td>\n",
       "      <td>2</td>\n",
       "      <td>1.0</td>\n",
       "      <td>1.0</td>\n",
       "      <td>1.0</td>\n",
       "    </tr>\n",
       "    <tr>\n",
       "      <th>2</th>\n",
       "      <td>0</td>\n",
       "      <td>11</td>\n",
       "      <td>1</td>\n",
       "      <td>1.0</td>\n",
       "      <td>1.0</td>\n",
       "      <td>0.0</td>\n",
       "    </tr>\n",
       "    <tr>\n",
       "      <th>3</th>\n",
       "      <td>0</td>\n",
       "      <td>14</td>\n",
       "      <td>1</td>\n",
       "      <td>1.0</td>\n",
       "      <td>1.0</td>\n",
       "      <td>0.0</td>\n",
       "    </tr>\n",
       "    <tr>\n",
       "      <th>4</th>\n",
       "      <td>0</td>\n",
       "      <td>16</td>\n",
       "      <td>1</td>\n",
       "      <td>1.0</td>\n",
       "      <td>1.0</td>\n",
       "      <td>3.0</td>\n",
       "    </tr>\n",
       "  </tbody>\n",
       "</table>\n",
       "</div>"
      ],
      "text/plain": [
       "   Day  Community  Total  DoW  Month  Cluster\n",
       "0    0          7      3  1.0    1.0      3.0\n",
       "1    0          8      2  1.0    1.0      1.0\n",
       "2    0         11      1  1.0    1.0      0.0\n",
       "3    0         14      1  1.0    1.0      0.0\n",
       "4    0         16      1  1.0    1.0      3.0"
      ]
     },
     "execution_count": 25,
     "metadata": {},
     "output_type": "execute_result"
    }
   ],
   "source": [
    "daily_set['DoW']=pd.Series(DoW)\n",
    "daily_set['Month']=pd.Series(Month)\n",
    "daily_set['Cluster']=pd.Series(Cluster)\n",
    "daily_set.head()"
   ]
  },
  {
   "cell_type": "code",
   "execution_count": 26,
   "metadata": {
    "collapsed": false
   },
   "outputs": [],
   "source": [
    "dow_df=pd.get_dummies(daily_set['DoW'])\n",
    "month_df=pd.get_dummies(daily_set['Month'])\n",
    "clus_df=pd.get_dummies(daily_set['Cluster'])"
   ]
  },
  {
   "cell_type": "code",
   "execution_count": 27,
   "metadata": {
    "collapsed": false
   },
   "outputs": [],
   "source": [
    "dow_df=dow_df.rename(index=int,columns={0:'dow_0',1:'dow_1',2:'dow_2',3:'dow_3',4:'dow_4',5:'dow_5',6:'dow_6'})\n",
    "month_df=month_df.rename(index=int,columns={1:'jan',2:'feb',3:'mar',4:'apr',5:'may',6:'jun',7:'jul',8:'aug',\n",
    "                                            9:'sep',10:'oct',11:'nov',12:'dec'})\n",
    "clus_df=clus_df.rename(index=int,columns={0:'c0',1:'c1',2:'c2',3:'c3',4:'c4'})"
   ]
  },
  {
   "cell_type": "code",
   "execution_count": null,
   "metadata": {
    "collapsed": false,
    "scrolled": true
   },
   "outputs": [],
   "source": []
  },
  {
   "cell_type": "code",
   "execution_count": 28,
   "metadata": {
    "collapsed": false
   },
   "outputs": [],
   "source": [
    "reg_clus=pd.concat([pd.DataFrame(daily_set['Total']),dow_df,month_df,clus_df],axis=1)"
   ]
  },
  {
   "cell_type": "code",
   "execution_count": 29,
   "metadata": {
    "collapsed": false
   },
   "outputs": [
    {
     "name": "stdout",
     "output_type": "stream",
     "text": [
      "   Total  dow_0  dow_1  dow_2  dow_3  dow_4  dow_5  dow_6  0.0  jan  feb  mar  \\\n",
      "0      3    0.0    1.0    0.0    0.0    0.0    0.0    0.0  0.0  1.0  0.0  0.0   \n",
      "1      2    0.0    1.0    0.0    0.0    0.0    0.0    0.0  0.0  1.0  0.0  0.0   \n",
      "2      1    0.0    1.0    0.0    0.0    0.0    0.0    0.0  0.0  1.0  0.0  0.0   \n",
      "3      1    0.0    1.0    0.0    0.0    0.0    0.0    0.0  0.0  1.0  0.0  0.0   \n",
      "4      1    0.0    1.0    0.0    0.0    0.0    0.0    0.0  0.0  1.0  0.0  0.0   \n",
      "\n",
      "   apr  may  jun   c0   c1   c2   c3   c4  \n",
      "0  0.0  0.0  0.0  0.0  0.0  0.0  1.0  0.0  \n",
      "1  0.0  0.0  0.0  0.0  1.0  0.0  0.0  0.0  \n",
      "2  0.0  0.0  0.0  1.0  0.0  0.0  0.0  0.0  \n",
      "3  0.0  0.0  0.0  1.0  0.0  0.0  0.0  0.0  \n",
      "4  0.0  0.0  0.0  0.0  0.0  0.0  1.0  0.0  \n",
      "(76971, 20)\n"
     ]
    }
   ],
   "source": [
    "print reg_clus.head()\n",
    "\n",
    "print reg_clus.shape"
   ]
  },
  {
   "cell_type": "code",
   "execution_count": 30,
   "metadata": {
    "collapsed": false
   },
   "outputs": [],
   "source": [
    "# split data into testing and training\n",
    "rand = reg_clus.sample(frac=1,replace=False)\n",
    "train = rand[:(4*len(rand)/5)]\n",
    "test = rand[(4*len(rand)/5):]\n",
    "#print train_err, test_err\n",
    "\n",
    "daily_lm = lm.LinearRegression().fit(train.drop('Total',axis=1),train['Total'])"
   ]
  },
  {
   "cell_type": "code",
   "execution_count": 31,
   "metadata": {
    "collapsed": false
   },
   "outputs": [
    {
     "data": {
      "text/plain": [
       "0.7407521865366562"
      ]
     },
     "execution_count": 31,
     "metadata": {},
     "output_type": "execute_result"
    }
   ],
   "source": [
    "# training score\n",
    "daily_lm.score(train.drop('Total',axis=1),train['Total'])"
   ]
  },
  {
   "cell_type": "code",
   "execution_count": 32,
   "metadata": {
    "collapsed": false
   },
   "outputs": [
    {
     "data": {
      "text/plain": [
       "0.74341522822393047"
      ]
     },
     "execution_count": 32,
     "metadata": {},
     "output_type": "execute_result"
    }
   ],
   "source": [
    "# testing score\n",
    "daily_lm.score(test.drop('Total',axis=1),test['Total'])"
   ]
  },
  {
   "cell_type": "code",
   "execution_count": null,
   "metadata": {
    "collapsed": false
   },
   "outputs": [],
   "source": []
  },
  {
   "cell_type": "markdown",
   "metadata": {},
   "source": [
    "Much much better. The r-squared testing of 0.68 is quite good, while the 0.7 training score is only slightly better indicating only small amount of overfitting. Predicting the number of crimes per neighborhood is certainly reasonable without the use of time-series techniques."
   ]
  }
 ],
 "metadata": {
  "anaconda-cloud": {},
  "kernelspec": {
   "display_name": "Python [Root]",
   "language": "python",
   "name": "Python [Root]"
  },
  "language_info": {
   "codemirror_mode": {
    "name": "ipython",
    "version": 2
   },
   "file_extension": ".py",
   "mimetype": "text/x-python",
   "name": "python",
   "nbconvert_exporter": "python",
   "pygments_lexer": "ipython2",
   "version": "2.7.12"
  }
 },
 "nbformat": 4,
 "nbformat_minor": 0
}
